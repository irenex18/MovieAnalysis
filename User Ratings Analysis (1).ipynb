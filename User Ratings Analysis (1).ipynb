{
 "cells": [
  {
   "cell_type": "code",
   "execution_count": 2,
   "metadata": {
    "scrolled": false
   },
   "outputs": [],
   "source": [
    "import pandas as pd\n",
    "import matplotlib as mpl\n",
    "import numpy as np\n",
    "import math\n",
    "industry = pd.read_csv(\"Desktop/EastCoastDataOpen/movie_industry.csv\", encoding = \"latin-1\")\n",
    "movies = pd.read_csv(\"Desktop/EastCoastDataOpen/movies.csv\")\n",
    "ratings = pd.read_csv(\"Desktop/EastCoastDataOpen/ratings.csv\")"
   ]
  },
  {
   "cell_type": "code",
   "execution_count": 3,
   "metadata": {},
   "outputs": [],
   "source": [
    "ratings = ratings.sort_values(by=[\"movieId\"])"
   ]
  },
  {
   "cell_type": "code",
   "execution_count": 4,
   "metadata": {},
   "outputs": [],
   "source": [
    "movieLenseRatings = np.array(ratings[\"rating\"])"
   ]
  },
  {
   "cell_type": "code",
   "execution_count": 5,
   "metadata": {},
   "outputs": [
    {
     "name": "stdout",
     "output_type": "stream",
     "text": [
      "[     1      1      1 ... 193882 193886 193886]\n"
     ]
    }
   ],
   "source": [
    "movieID = np.array(ratings[\"movieId\"])\n",
    "print(movieID)"
   ]
  },
  {
   "cell_type": "code",
   "execution_count": 6,
   "metadata": {},
   "outputs": [
    {
     "data": {
      "text/plain": [
       "193886"
      ]
     },
     "execution_count": 6,
     "metadata": {},
     "output_type": "execute_result"
    }
   ],
   "source": [
    "movieID.max()"
   ]
  },
  {
   "cell_type": "code",
   "execution_count": 7,
   "metadata": {},
   "outputs": [
    {
     "name": "stdout",
     "output_type": "stream",
     "text": [
      "[0.         3.88664943 3.246592   ... 0.         0.         0.        ]\n"
     ]
    }
   ],
   "source": [
    "avgMovieLenseRatings = np.zeros(movieID.max()+1)\n",
    "currentMovieID = 1\n",
    "currentRatingNo = 0.0\n",
    "for i in range(len(movieID)):\n",
    "    if movieID[i] == currentMovieID:\n",
    "        avgMovieLenseRatings[currentMovieID]+=movieLenseRatings[i]\n",
    "        currentRatingNo+=1\n",
    "    else:\n",
    "        if avgMovieLenseRatings[currentMovieID] != 0:\n",
    "            avgMovieLenseRatings[currentMovieID] = avgMovieLenseRatings[currentMovieID]/currentRatingNo\n",
    "        currentMovieID+=1\n",
    "        currentRatingNo = 0\n",
    "print(avgMovieLenseRatings)\n"
   ]
  },
  {
   "cell_type": "code",
   "execution_count": 13,
   "metadata": {},
   "outputs": [],
   "source": [
    "sortedIMDBRatings = np.zeros(movieID.max()+1)\n",
    "industrySorted = industry.sort_values(by=[\"name\"])\n",
    "moviesSorted = movies.sort_values(by=[\"title\"])\n",
    "\n",
    "movieTitlesIMDB = np.array(industrySorted[\"name\"])\n",
    "movieTitlesMovies = np.array(moviesSorted[\"title\"])\n",
    "moviesID = np.array(moviesSorted[\"movieId\"])\n",
    "imdbRatings = np.array(industrySorted[\"score\"])"
   ]
  },
  {
   "cell_type": "code",
   "execution_count": 19,
   "metadata": {},
   "outputs": [
    {
     "data": {
      "text/plain": [
       "count    6820.000000\n",
       "mean        6.374897\n",
       "std         1.003142\n",
       "min         1.500000\n",
       "25%         5.800000\n",
       "50%         6.400000\n",
       "75%         7.100000\n",
       "max         9.300000\n",
       "Name: score, dtype: float64"
      ]
     },
     "execution_count": 19,
     "metadata": {},
     "output_type": "execute_result"
    }
   ],
   "source": [
    "industry[\"score\"].describe()"
   ]
  },
  {
   "cell_type": "code",
   "execution_count": 20,
   "metadata": {},
   "outputs": [
    {
     "data": {
      "text/plain": [
       "count    2.775344e+07\n",
       "mean     3.530445e+00\n",
       "std      1.066353e+00\n",
       "min      5.000000e-01\n",
       "25%      3.000000e+00\n",
       "50%      3.500000e+00\n",
       "75%      4.000000e+00\n",
       "max      5.000000e+00\n",
       "Name: rating, dtype: float64"
      ]
     },
     "execution_count": 20,
     "metadata": {},
     "output_type": "execute_result"
    }
   ],
   "source": [
    "ratings[\"rating\"].describe()"
   ]
  },
  {
   "cell_type": "code",
   "execution_count": 22,
   "metadata": {},
   "outputs": [
    {
     "data": {
      "text/html": [
       "<div>\n",
       "<style scoped>\n",
       "    .dataframe tbody tr th:only-of-type {\n",
       "        vertical-align: middle;\n",
       "    }\n",
       "\n",
       "    .dataframe tbody tr th {\n",
       "        vertical-align: top;\n",
       "    }\n",
       "\n",
       "    .dataframe thead th {\n",
       "        text-align: right;\n",
       "    }\n",
       "</style>\n",
       "<table border=\"1\" class=\"dataframe\">\n",
       "  <thead>\n",
       "    <tr style=\"text-align: right;\">\n",
       "      <th></th>\n",
       "      <th>0</th>\n",
       "    </tr>\n",
       "  </thead>\n",
       "  <tbody>\n",
       "    <tr>\n",
       "      <th>count</th>\n",
       "      <td>30634.000000</td>\n",
       "    </tr>\n",
       "    <tr>\n",
       "      <th>mean</th>\n",
       "      <td>3.156179</td>\n",
       "    </tr>\n",
       "    <tr>\n",
       "      <th>std</th>\n",
       "      <td>0.626198</td>\n",
       "    </tr>\n",
       "    <tr>\n",
       "      <th>min</th>\n",
       "      <td>0.500000</td>\n",
       "    </tr>\n",
       "    <tr>\n",
       "      <th>25%</th>\n",
       "      <td>2.833333</td>\n",
       "    </tr>\n",
       "    <tr>\n",
       "      <th>50%</th>\n",
       "      <td>3.250000</td>\n",
       "    </tr>\n",
       "    <tr>\n",
       "      <th>75%</th>\n",
       "      <td>3.571429</td>\n",
       "    </tr>\n",
       "    <tr>\n",
       "      <th>max</th>\n",
       "      <td>5.000000</td>\n",
       "    </tr>\n",
       "  </tbody>\n",
       "</table>\n",
       "</div>"
      ],
      "text/plain": [
       "                  0\n",
       "count  30634.000000\n",
       "mean       3.156179\n",
       "std        0.626198\n",
       "min        0.500000\n",
       "25%        2.833333\n",
       "50%        3.250000\n",
       "75%        3.571429\n",
       "max        5.000000"
      ]
     },
     "execution_count": 22,
     "metadata": {},
     "output_type": "execute_result"
    }
   ],
   "source": [
    "nonZeroRatingsArray = []\n",
    "for i in avgMovieLenseRatings:\n",
    "    if i != 0:\n",
    "        nonZeroRatingsArray.append(i)\n",
    "ratingsDF = pd.DataFrame(nonZeroRatingsArray)\n",
    "ratingsDF.describe()"
   ]
  },
  {
   "cell_type": "code",
   "execution_count": 23,
   "metadata": {},
   "outputs": [
    {
     "name": "stdout",
     "output_type": "stream",
     "text": [
      "Abduction Abduction\n",
      "Moonlight Moonlight\n",
      "My Boyfriend's Back My Boyfriend's Back\n",
      "Nocturnal Animals Nocturnal Animals\n",
      "Paterson Paterson\n",
      "The Contender The Contender\n"
     ]
    }
   ],
   "source": [
    "imdbIndex = 0\n",
    "moviesIndex = 0\n",
    "\n",
    "while moviesIndex < len(moviesID) and imdbIndex < len(imdbRatings):\n",
    "    if movieTitlesMovies[moviesIndex]==movieTitlesIMDB[imdbIndex]:\n",
    "        print(movieTitlesMovies[moviesIndex], movieTitlesIMDB[imdbIndex])\n",
    "        sortedIMDBRatings[moviesID[moviesIndex]] += imdbRatings[imdbIndex]\n",
    "        #print(sortedIMDBRatings[moviesID[moviesIndex]], moviesIndex)\n",
    "        imdbIndex+=1\n",
    "        moviesIndex+=1\n",
    "    elif movieTitlesMovies[moviesIndex] > movieTitlesIMDB[imdbIndex]:\n",
    "        imdbIndex+=1\n",
    "    else:\n",
    "        moviesIndex+=1"
   ]
  },
  {
   "cell_type": "code",
   "execution_count": null,
   "metadata": {},
   "outputs": [],
   "source": []
  }
 ],
 "metadata": {
  "kernelspec": {
   "display_name": "Python 3",
   "language": "python",
   "name": "python3"
  },
  "language_info": {
   "codemirror_mode": {
    "name": "ipython",
    "version": 3
   },
   "file_extension": ".py",
   "mimetype": "text/x-python",
   "name": "python",
   "nbconvert_exporter": "python",
   "pygments_lexer": "ipython3",
   "version": "3.8.3"
  }
 },
 "nbformat": 4,
 "nbformat_minor": 4
}
